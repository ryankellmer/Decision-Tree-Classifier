{
 "cells": [
  {
   "cell_type": "markdown",
   "source": [
    "# Decision Tree Classifier\r\n",
    "## By: Ryan Kellmer"
   ],
   "metadata": {}
  },
  {
   "cell_type": "markdown",
   "source": [
    "## Libraries\r\n",
    "- Pandas is used to manipulate numerical tabels\r\n",
    "- Matplotlib is used to display the data in figures and graphs\r\n",
    "- Scikit-learn is used to split data into training sets, produce tree figures, and impliment the Decision Tree Classifier\r\n"
   ],
   "metadata": {}
  },
  {
   "cell_type": "code",
   "execution_count": 4,
   "source": [
    "import pandas as pd \r\n",
    "import matplotlib.pyplot as plt \r\n",
    "from sklearn.tree import DecisionTreeClassifier \r\n",
    "from sklearn.tree import plot_tree  \r\n",
    "from sklearn.model_selection import train_test_split "
   ],
   "outputs": [],
   "metadata": {}
  },
  {
   "cell_type": "markdown",
   "source": [
    "## Data Tabel\r\n",
    "Initialize a data frame which hold the data from zoo.csv."
   ],
   "metadata": {}
  },
  {
   "cell_type": "code",
   "execution_count": null,
   "source": [
    "df = pd.read_csv('zoo.csv')\r\n",
    "df"
   ],
   "outputs": [],
   "metadata": {}
  }
 ],
 "metadata": {
  "orig_nbformat": 4,
  "language_info": {
   "name": "python",
   "version": "3.9.1",
   "mimetype": "text/x-python",
   "codemirror_mode": {
    "name": "ipython",
    "version": 3
   },
   "pygments_lexer": "ipython3",
   "nbconvert_exporter": "python",
   "file_extension": ".py"
  },
  "kernelspec": {
   "name": "python3",
   "display_name": "Python 3.9.1 64-bit"
  },
  "interpreter": {
   "hash": "575f09417d352e8620da82232edf31d7e1ec2497570d29fa3fac82ce33b764a4"
  }
 },
 "nbformat": 4,
 "nbformat_minor": 2
}