{
 "cells": [
  {
   "cell_type": "code",
   "execution_count": null,
   "source": [
    "#  Offers data manipulation, i will be using it for manipulating numerical tabels.\r\n",
    "import pandas as pd \r\n",
    "\r\n",
    "# Used for displaying data in figures and  graphs.\r\n",
    "import matplotlib.pyplot as plt \r\n",
    "\r\n",
    "# tree structure that breaks down into smaller subsets resulting in a prediction. Traverse to find prediction\r\n",
    "from sklearn.tree import DecisionTreeClassifier \r\n",
    "\r\n",
    "#  adds onto matplotlib, allows for production of tree figures.\r\n",
    "from sklearn.tree import plot_tree  \r\n",
    "\r\n",
    "# Used to split data into our training and testing  data.\r\n",
    "from sklearn.model_selection import train_test_split "
   ],
   "outputs": [],
   "metadata": {}
  },
  {
   "cell_type": "code",
   "execution_count": null,
   "source": [],
   "outputs": [],
   "metadata": {}
  }
 ],
 "metadata": {
  "orig_nbformat": 4,
  "language_info": {
   "name": "python",
   "version": "3.9.1",
   "mimetype": "text/x-python",
   "codemirror_mode": {
    "name": "ipython",
    "version": 3
   },
   "pygments_lexer": "ipython3",
   "nbconvert_exporter": "python",
   "file_extension": ".py"
  },
  "kernelspec": {
   "name": "python3",
   "display_name": "Python 3.9.1 64-bit"
  },
  "interpreter": {
   "hash": "575f09417d352e8620da82232edf31d7e1ec2497570d29fa3fac82ce33b764a4"
  }
 },
 "nbformat": 4,
 "nbformat_minor": 2
}